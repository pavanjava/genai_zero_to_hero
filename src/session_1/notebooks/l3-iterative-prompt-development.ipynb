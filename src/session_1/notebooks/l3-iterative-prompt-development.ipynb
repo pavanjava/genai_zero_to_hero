{
 "cells": [
  {
   "cell_type": "markdown",
   "id": "b97ddf3b-d921-4169-9d82-b0ee95e9eccd",
   "metadata": {},
   "source": [
    "# Iterative Prompt Development\n",
    "In this lesson, you'll iteratively analyze and refine your prompts to generate marketing copy from a product fact sheet.\n",
    "\n",
    "## Setup"
   ]
  },
  {
   "cell_type": "code",
   "execution_count": 2,
   "id": "64268ad6-878d-435e-828b-555f17adaef5",
   "metadata": {},
   "outputs": [
    {
     "name": "stdout",
     "output_type": "stream",
     "text": [
      "Collecting openai\n",
      "  Using cached openai-2.6.1-py3-none-any.whl.metadata (29 kB)\n",
      "Requirement already satisfied: anyio<5,>=3.5.0 in /opt/anaconda3/lib/python3.12/site-packages (from openai) (4.2.0)\n",
      "Requirement already satisfied: distro<2,>=1.7.0 in /opt/anaconda3/lib/python3.12/site-packages (from openai) (1.9.0)\n",
      "Requirement already satisfied: httpx<1,>=0.23.0 in /opt/anaconda3/lib/python3.12/site-packages (from openai) (0.27.0)\n",
      "Collecting jiter<1,>=0.10.0 (from openai)\n",
      "  Using cached jiter-0.11.1-cp312-cp312-macosx_11_0_arm64.whl.metadata (5.2 kB)\n",
      "Requirement already satisfied: pydantic<3,>=1.9.0 in /opt/anaconda3/lib/python3.12/site-packages (from openai) (2.8.2)\n",
      "Requirement already satisfied: sniffio in /opt/anaconda3/lib/python3.12/site-packages (from openai) (1.3.0)\n",
      "Requirement already satisfied: tqdm>4 in /opt/anaconda3/lib/python3.12/site-packages (from openai) (4.66.5)\n",
      "Requirement already satisfied: typing-extensions<5,>=4.11 in /opt/anaconda3/lib/python3.12/site-packages (from openai) (4.11.0)\n",
      "Requirement already satisfied: idna>=2.8 in /opt/anaconda3/lib/python3.12/site-packages (from anyio<5,>=3.5.0->openai) (3.7)\n",
      "Requirement already satisfied: certifi in /opt/anaconda3/lib/python3.12/site-packages (from httpx<1,>=0.23.0->openai) (2025.8.3)\n",
      "Requirement already satisfied: httpcore==1.* in /opt/anaconda3/lib/python3.12/site-packages (from httpx<1,>=0.23.0->openai) (1.0.2)\n",
      "Requirement already satisfied: h11<0.15,>=0.13 in /opt/anaconda3/lib/python3.12/site-packages (from httpcore==1.*->httpx<1,>=0.23.0->openai) (0.14.0)\n",
      "Requirement already satisfied: annotated-types>=0.4.0 in /opt/anaconda3/lib/python3.12/site-packages (from pydantic<3,>=1.9.0->openai) (0.6.0)\n",
      "Requirement already satisfied: pydantic-core==2.20.1 in /opt/anaconda3/lib/python3.12/site-packages (from pydantic<3,>=1.9.0->openai) (2.20.1)\n",
      "Downloading openai-2.6.1-py3-none-any.whl (1.0 MB)\n",
      "\u001b[2K   \u001b[38;2;114;156;31m━━━━━━━━━━━━━━━━━━━━━━━━━━━━━━━━━━━━━━━━\u001b[0m \u001b[32m1.0/1.0 MB\u001b[0m \u001b[31m27.2 MB/s\u001b[0m eta \u001b[36m0:00:00\u001b[0m\n",
      "\u001b[?25hUsing cached jiter-0.11.1-cp312-cp312-macosx_11_0_arm64.whl (315 kB)\n",
      "Installing collected packages: jiter, openai\n",
      "Successfully installed jiter-0.11.1 openai-2.6.1\n"
     ]
    }
   ],
   "source": [
    "import sys\n",
    "print(sys.executable)\n",
    "!{sys.executable} -m pip install openai"
   ]
  },
  {
   "cell_type": "code",
   "execution_count": 3,
   "id": "2800e646",
   "metadata": {
    "ExecuteTime": {
     "end_time": "2025-02-08T07:04:29.135341Z",
     "start_time": "2025-02-08T07:04:29.102213Z"
    },
    "tags": []
   },
   "outputs": [],
   "source": [
    "import openai\n",
    "import os\n",
    "\n",
    "from dotenv import load_dotenv, find_dotenv\n",
    "_ = load_dotenv(find_dotenv()) # read local .env file\n",
    "# openai.api_key  = os.getenv('OPENAI_API_KEY')\n",
    "\n",
    "client = openai.OpenAI(api_key=os.getenv('OPENAI_API_KEY'))"
   ]
  },
  {
   "cell_type": "code",
   "execution_count": 4,
   "id": "9fb6f2de",
   "metadata": {
    "ExecuteTime": {
     "end_time": "2025-02-08T06:26:16.363557Z",
     "start_time": "2025-02-08T06:26:16.361025Z"
    },
    "tags": []
   },
   "outputs": [],
   "source": [
    "def get_completion(prompt, model=\"gpt-4o\"):\n",
    "    # Create the messages list with the user prompt\n",
    "    messages = [{\"role\": \"user\", \"content\": prompt}]\n",
    "    # Generate the completion\n",
    "    response = client.chat.completions.create(\n",
    "        model=model,\n",
    "        messages=messages,\n",
    "        temperature=0,  # this is the degree of randomness of the model's output\n",
    "    )\n",
    "\n",
    "    # Return the assistant's reply\n",
    "    return response.choices[0].message.content"
   ]
  },
  {
   "cell_type": "markdown",
   "id": "ffc2b32f-73da-4ef0-81f6-0c7bff70783d",
   "metadata": {},
   "source": [
    "**Note**: In June 2023, OpenAI updated gpt-3.5-turbo. The results you see in the notebook may be slightly different than those in the video. Some of the prompts have also been slightly modified to product the desired results."
   ]
  },
  {
   "cell_type": "markdown",
   "id": "71d1a1df-03c3-4f38-af6d-3962362f3dcd",
   "metadata": {},
   "source": [
    "## Generate a marketing product description from a product fact sheet"
   ]
  },
  {
   "cell_type": "code",
   "execution_count": 5,
   "id": "5be90e47",
   "metadata": {
    "ExecuteTime": {
     "end_time": "2025-02-08T07:09:35.150411Z",
     "start_time": "2025-02-08T07:09:35.142983Z"
    },
    "tags": []
   },
   "outputs": [],
   "source": [
    "fact_sheet = \"\"\"\n",
    "PERSONAL LAB WORKSPACE SPECIFICATIONS\n",
    "\n",
    "OVERVIEW\n",
    "- Modern personal laboratory setup designed for both research and study\n",
    "- Combines a height-adjustable workstation with integrated library storage\n",
    "- Suitable for home office, research space, or professional environment\n",
    "- Modular design allows for future expansion\n",
    "- Available in multiple finish options for desk and shelving surfaces\n",
    "\n",
    "MAIN WORKSTATION\n",
    "- Electric height-adjustable table with memory settings\n",
    "- Height range: 65-130 CM | 25.6\"-51.2\"\n",
    "- Desktop dimensions: 160 CM x 80 CM | 63\" x 31.5\"\n",
    "- Maximum weight capacity: 120 KG | 264 LBS\n",
    "- Built-in cable management system\n",
    "- Anti-collision detection system\n",
    "- LED height display\n",
    "\n",
    "LIBRARY COMPONENT\n",
    "- Modular shelving system with adjustable shelves\n",
    "- 5 shelf levels with 35 CM | 13.8\" between shelves\n",
    "- Total height: 200 CM | 78.7\"\n",
    "- Width per section: 100 CM | 39.4\"\n",
    "- Depth: 35 CM | 13.8\"\n",
    "- Weight capacity per shelf: 30 KG | 66 LBS\n",
    "- Includes bookends and label holders\n",
    "- Optional ladder rail system\n",
    "\n",
    "CONSTRUCTION\n",
    "- Steel frame construction for desk and shelving\n",
    "- Reinforced joints for stability\n",
    "- Anti-tip mounting brackets for shelving\n",
    "- Leveling feet for uneven floors\n",
    "\n",
    "MATERIALS\n",
    "DESKTOP & SHELVES\n",
    "- Choice of materials:\n",
    "  - Solid hardwood (oak, maple, or walnut)\n",
    "  - High-pressure laminate\n",
    "  - Bamboo\n",
    "FRAME\n",
    "- Powder-coated steel\n",
    "- Available in matte black, white, or silver\n",
    "\n",
    "ELECTRICAL\n",
    "- 110V/220V compatible motor system\n",
    "- Standby power < 0.1W\n",
    "- Operating noise < 50dB\n",
    "- 3 memory presets\n",
    "- Includes surge protection\n",
    "\n",
    "OPTIONS\n",
    "- Monitor arm mounting points\n",
    "- Under-desk drawer unit\n",
    "- Task lighting system\n",
    "- Mobile book cart\n",
    "- Wire management solutions\n",
    "- Keyboard tray\n",
    "- Anti-fatigue mat\n",
    "\n",
    "SUSTAINABILITY\n",
    "- GREENGUARD certified materials\n",
    "- Energy-efficient motor system\n",
    "- Recyclable components\n",
    "- Sustainable wood options available\n",
    "\n",
    "WARRANTY\n",
    "- 10 years on frame\n",
    "- 5 years on electrical components\n",
    "- 2 years on desktop surface and shelving\n",
    "\"\"\""
   ]
  },
  {
   "cell_type": "code",
   "execution_count": 6,
   "id": "4f656d0c",
   "metadata": {
    "ExecuteTime": {
     "end_time": "2025-02-08T07:09:45.716824Z",
     "start_time": "2025-02-08T07:09:36.917198Z"
    },
    "tags": []
   },
   "outputs": [
    {
     "name": "stdout",
     "output_type": "stream",
     "text": [
      "Introducing the ultimate Personal Lab Workspace, a modern and versatile solution designed to elevate your research and study environment. Perfect for home offices, research spaces, or professional settings, this innovative setup combines a height-adjustable workstation with an integrated library storage system, offering both functionality and style.\n",
      "\n",
      "**Main Workstation Features:**\n",
      "- **Electric Height-Adjustable Table:** Effortlessly transition between sitting and standing with a height range of 65-130 CM (25.6\"-51.2\"). The table features memory settings for personalized comfort and an LED height display for easy adjustments.\n",
      "- **Spacious Desktop:** With dimensions of 160 CM x 80 CM (63\" x 31.5\"), the desktop provides ample space for all your work essentials, supporting up to 120 KG (264 LBS).\n",
      "- **Smart Design:** Includes a built-in cable management system and an anti-collision detection system to ensure a tidy and safe workspace.\n",
      "\n",
      "**Library Component:**\n",
      "- **Modular Shelving System:** Customize your storage with adjustable shelves across 5 levels, each with a weight capacity of 30 KG (66 LBS). The total height of 200 CM (78.7\") and width of 100 CM (39.4\") per section offers generous space for books and materials.\n",
      "- **Enhanced Accessibility:** Optional ladder rail system and included bookends and label holders make organization effortless.\n",
      "\n",
      "**Construction and Materials:**\n",
      "- **Durable Build:** Constructed with a steel frame and reinforced joints for stability, featuring anti-tip mounting brackets and leveling feet for uneven floors.\n",
      "- **Premium Materials:** Choose from solid hardwood (oak, maple, or walnut), high-pressure laminate, or bamboo for the desktop and shelves. The frame is available in matte black, white, or silver powder-coated steel.\n",
      "\n",
      "**Electrical and Options:**\n",
      "- **Efficient Motor System:** Compatible with 110V/220V, the motor system operates quietly at < 50dB and includes surge protection with 3 memory presets.\n",
      "- **Customizable Add-ons:** Enhance your workspace with options like monitor arm mounting points, under-desk drawer units, task lighting systems, and more.\n",
      "\n",
      "**Sustainability and Warranty:**\n",
      "- **Eco-Friendly Design:** Made with GREENGUARD certified materials, energy-efficient motor systems, and recyclable components. Sustainable wood options are available.\n",
      "- **Comprehensive Warranty:** Enjoy peace of mind with a 10-year warranty on the frame, 5 years on electrical components, and 2 years on the desktop surface and shelving.\n",
      "\n",
      "Transform your workspace with the Personal Lab Workspace, where innovation meets elegance, providing a tailored environment for productivity and creativity.\n"
     ]
    }
   ],
   "source": [
    "prompt = f\"\"\"\n",
    "Your task is to help a marketing team create a \n",
    "description for a retail website of a product based \n",
    "on a technical fact sheet.\n",
    "\n",
    "Write a product description based on the information \n",
    "provided in the technical specifications delimited by \n",
    "triple backticks.\n",
    "\n",
    "Technical specifications: ```{fact_sheet}```\n",
    "\"\"\"\n",
    "response = get_completion(prompt)\n",
    "print(response)\n"
   ]
  },
  {
   "cell_type": "markdown",
   "id": "e1361d6f-6022-4b7a-8107-b2e2ff5efd32",
   "metadata": {},
   "source": [
    "## Issue 1: The text is too long \n",
    "- Limit the number of words/sentences/characters."
   ]
  },
  {
   "cell_type": "code",
   "execution_count": 7,
   "id": "f6129532",
   "metadata": {
    "ExecuteTime": {
     "end_time": "2025-02-08T07:11:31.262991Z",
     "start_time": "2025-02-08T07:11:28.057958Z"
    },
    "tags": []
   },
   "outputs": [
    {
     "name": "stdout",
     "output_type": "stream",
     "text": [
      "Elevate your workspace with our modern Personal Lab Workspace. Featuring a height-adjustable desk, integrated library storage, and modular design, it's perfect for home or professional use. Choose from various finishes and materials, with sustainable options available. Enjoy a 10-year frame warranty and energy-efficient features.\n"
     ]
    }
   ],
   "source": [
    "prompt = f\"\"\"\n",
    "Your task is to help a marketing team create a \n",
    "description for a retail website of a product based \n",
    "on a technical fact sheet.\n",
    "\n",
    "Write a product description based on the information \n",
    "provided in the technical specifications delimited by \n",
    "triple backticks.\n",
    "\n",
    "Use at most 50 words.\n",
    "\n",
    "Technical specifications: ```{fact_sheet}```\n",
    "\"\"\"\n",
    "response = get_completion(prompt)\n",
    "print(response)\n"
   ]
  },
  {
   "cell_type": "code",
   "execution_count": 8,
   "id": "17f658d0",
   "metadata": {
    "ExecuteTime": {
     "end_time": "2025-02-08T07:12:01.154130Z",
     "start_time": "2025-02-08T07:12:01.150261Z"
    },
    "tags": []
   },
   "outputs": [
    {
     "data": {
      "text/plain": [
       "44"
      ]
     },
     "execution_count": 8,
     "metadata": {},
     "output_type": "execute_result"
    }
   ],
   "source": [
    "len(response.split())"
   ]
  },
  {
   "cell_type": "markdown",
   "id": "a6de9c92-857c-4d1c-8fd1-192cf47c4763",
   "metadata": {},
   "source": [
    "## Issue 2. Text focuses on the wrong details\n",
    "- Ask it to focus on the aspects that are relevant to the intended audience."
   ]
  },
  {
   "cell_type": "code",
   "execution_count": 14,
   "id": "954a8a06",
   "metadata": {
    "ExecuteTime": {
     "end_time": "2025-02-08T07:14:30.929392Z",
     "start_time": "2025-02-08T07:14:28.142628Z"
    },
    "tags": []
   },
   "outputs": [
    {
     "name": "stdout",
     "output_type": "stream",
     "text": [
      "Elevate your creative space with a modern personal lab setup featuring a height-adjustable workstation (65-130 CM) and modular shelving (200 CM tall). Constructed from premium materials like solid hardwood and powder-coated steel, this lab offers durability and style, perfect for personal YouTubers seeking a professional environment.\n"
     ]
    }
   ],
   "source": [
    "prompt = f\"\"\"\n",
    "Your task is to help a marketing team create a \n",
    "description for a retail website of a product based \n",
    "on a technical fact sheet.\n",
    "\n",
    "Write a product description based on the information \n",
    "provided in the technical specifications delimited by \n",
    "triple backticks.\n",
    "\n",
    "The description is intended for personal youtubers, \n",
    "so should be technical in nature and focus on the \n",
    "materials the product is constructed from and dimensions of lab.\n",
    "\n",
    "Use at most 50 words.\n",
    "\n",
    "Technical specifications: ```{fact_sheet}```\n",
    "\"\"\"\n",
    "response = get_completion(prompt)\n",
    "print(response)"
   ]
  },
  {
   "cell_type": "code",
   "execution_count": 11,
   "id": "e9455d58",
   "metadata": {
    "ExecuteTime": {
     "end_time": "2025-02-08T06:04:55.445Z",
     "start_time": "2025-02-08T06:04:53.569211Z"
    },
    "tags": []
   },
   "outputs": [
    {
     "name": "stdout",
     "output_type": "stream",
     "text": [
      "This mid-century inspired office chair features a durable cast aluminum shell with a modified nylon PA6/PA66 coating and a 5-wheel plastic-coated aluminum base. Available in various finishes and upholstery options, it offers pneumatic height adjustment and optional armrests. Ideal for home or business use. Product IDs: SWC-100, SWC-110.\n"
     ]
    }
   ],
   "source": [
    "prompt = f\"\"\"\n",
    "Your task is to help a marketing team create a \n",
    "description for a retail website of a product based \n",
    "on a technical fact sheet.\n",
    "\n",
    "Write a product description based on the information \n",
    "provided in the technical specifications delimited by \n",
    "triple backticks.\n",
    "\n",
    "The description is intended for furniture retailers, \n",
    "so should be technical in nature and focus on the \n",
    "materials the product is constructed from.\n",
    "\n",
    "At the end of the description, include every 7-character \n",
    "Product ID in the technical specification.\n",
    "\n",
    "Use at most 50 words.\n",
    "\n",
    "Technical specifications: ```{fact_sheet}```\n",
    "\"\"\"\n",
    "response = get_completion(prompt)\n",
    "print(response)"
   ]
  },
  {
   "cell_type": "markdown",
   "id": "5be496d5-54c9-443b-8116-0b3d3d9dc560",
   "metadata": {},
   "source": [
    "## Issue 3. Description needs a table of dimensions\n",
    "- Ask it to extract information and organize it in a table."
   ]
  },
  {
   "cell_type": "code",
   "execution_count": 9,
   "id": "0384f1e4",
   "metadata": {
    "ExecuteTime": {
     "end_time": "2025-02-08T07:17:25.358620Z",
     "start_time": "2025-02-08T07:17:07.412048Z"
    },
    "tags": []
   },
   "outputs": [
    {
     "name": "stdout",
     "output_type": "stream",
     "text": [
      "```html\n",
      "<div>\n",
      "  <p>\n",
      "    Introducing the Personal Lab Workspace, a modern and versatile laboratory setup designed to cater to both research and study needs. This innovative workspace combines a height-adjustable workstation with integrated library storage, making it ideal for home offices, research spaces, or professional environments. Its modular design allows for future expansion, and it is available in multiple finish options for both the desk and shelving surfaces.\n",
      "  </p>\n",
      "  <p>\n",
      "    The main workstation features an electric height-adjustable table with memory settings, offering a height range from 25.6\" to 51.2\". The desktop measures 63\" x 31.5\" and can support up to 264 lbs. It includes a built-in cable management system, an anti-collision detection system, and an LED height display for ease of use.\n",
      "  </p>\n",
      "  <p>\n",
      "    The library component is a modular shelving system with adjustable shelves, providing five shelf levels with 13.8\" between each. The total height of the shelving is 78.7\", with each section measuring 39.4\" in width and 13.8\" in depth. Each shelf can hold up to 66 lbs and comes with bookends and label holders, with an optional ladder rail system available.\n",
      "  </p>\n",
      "  <p>\n",
      "    Constructed with a steel frame for both the desk and shelving, the Personal Lab Workspace ensures stability with reinforced joints and anti-tip mounting brackets. Leveling feet are included to accommodate uneven floors. The desktop and shelves are available in a choice of solid hardwood (oak, maple, or walnut), high-pressure laminate, or bamboo, while the frame is made from powder-coated steel in matte black, white, or silver.\n",
      "  </p>\n",
      "  <p>\n",
      "    The electrical system is compatible with 110V/220V, featuring a motor system with standby power consumption of less than 0.1W and operating noise below 50dB. It includes three memory presets and surge protection for added convenience and safety.\n",
      "  </p>\n",
      "  <p>\n",
      "    Additional options include monitor arm mounting points, an under-desk drawer unit, a task lighting system, a mobile book cart, wire management solutions, a keyboard tray, and an anti-fatigue mat. The workspace is crafted with sustainability in mind, using GREENGUARD certified materials, an energy-efficient motor system, recyclable components, and sustainable wood options.\n",
      "  </p>\n",
      "  <p>\n",
      "    The product comes with a 10-year warranty on the frame, a 5-year warranty on electrical components, and a 2-year warranty on the desktop surface and shelving.\n",
      "  </p>\n",
      "  <p>Product ID: </p>\n",
      "</div>\n",
      "\n",
      "<table>\n",
      "  <caption>Product Dimensions</caption>\n",
      "  <tr>\n",
      "    <td>Height Range (Workstation)</td>\n",
      "    <td>25.6\" - 51.2\"</td>\n",
      "  </tr>\n",
      "  <tr>\n",
      "    <td>Desktop Dimensions</td>\n",
      "    <td>63\" x 31.5\"</td>\n",
      "  </tr>\n",
      "  <tr>\n",
      "    <td>Total Height (Shelving)</td>\n",
      "    <td>78.7\"</td>\n",
      "  </tr>\n",
      "  <tr>\n",
      "    <td>Width per Section (Shelving)</td>\n",
      "    <td>39.4\"</td>\n",
      "  </tr>\n",
      "  <tr>\n",
      "    <td>Depth (Shelving)</td>\n",
      "    <td>13.8\"</td>\n",
      "  </tr>\n",
      "  <tr>\n",
      "    <td>Distance Between Shelves</td>\n",
      "    <td>13.8\"</td>\n",
      "  </tr>\n",
      "</table>\n",
      "```\n"
     ]
    }
   ],
   "source": [
    "prompt = f\"\"\"\n",
    "Your task is to help a marketing team create a \n",
    "description for a retail website of a product based \n",
    "on a technical fact sheet.\n",
    "\n",
    "Write a product description based on the information \n",
    "provided in the technical specifications delimited by \n",
    "triple backticks.\n",
    "\n",
    "The description is intended for furniture retailers, \n",
    "so should be technical in nature and focus on the \n",
    "materials the product is constructed from.\n",
    "\n",
    "At the end of the description, include every 7-character \n",
    "Product ID in the technical specification.\n",
    "\n",
    "After the description, include a table that gives the \n",
    "product's dimensions. The table should have two columns.\n",
    "In the first column include the name of the dimension. \n",
    "In the second column include the measurements in inches only.\n",
    "\n",
    "Give the table the title 'Product Dimensions'.\n",
    "\n",
    "Format everything as HTML that can be used in a website. \n",
    "Place the description in a <div> element.\n",
    "\n",
    "Technical specifications: ```{fact_sheet}```\n",
    "\"\"\"\n",
    "\n",
    "response = get_completion(prompt)\n",
    "print(response)"
   ]
  },
  {
   "cell_type": "markdown",
   "id": "d681db67-6d59-40c1-a36b-4d76729a690d",
   "metadata": {},
   "source": [
    "## Load Python libraries to view HTML"
   ]
  },
  {
   "cell_type": "code",
   "execution_count": 10,
   "id": "73ff0052",
   "metadata": {
    "ExecuteTime": {
     "end_time": "2025-02-08T07:17:43.711894Z",
     "start_time": "2025-02-08T07:17:43.701917Z"
    },
    "tags": []
   },
   "outputs": [],
   "source": [
    "from IPython.display import display, HTML"
   ]
  },
  {
   "cell_type": "code",
   "execution_count": 11,
   "id": "3465ffce",
   "metadata": {
    "ExecuteTime": {
     "end_time": "2025-02-08T07:17:44.399723Z",
     "start_time": "2025-02-08T07:17:44.396371Z"
    },
    "tags": []
   },
   "outputs": [
    {
     "data": {
      "text/html": [
       "```html\n",
       "<div>\n",
       "  <p>\n",
       "    Introducing the Personal Lab Workspace, a modern and versatile laboratory setup designed to cater to both research and study needs. This innovative workspace combines a height-adjustable workstation with integrated library storage, making it ideal for home offices, research spaces, or professional environments. Its modular design allows for future expansion, and it is available in multiple finish options for both the desk and shelving surfaces.\n",
       "  </p>\n",
       "  <p>\n",
       "    The main workstation features an electric height-adjustable table with memory settings, offering a height range from 25.6\" to 51.2\". The desktop measures 63\" x 31.5\" and can support up to 264 lbs. It includes a built-in cable management system, an anti-collision detection system, and an LED height display for ease of use.\n",
       "  </p>\n",
       "  <p>\n",
       "    The library component is a modular shelving system with adjustable shelves, providing five shelf levels with 13.8\" between each. The total height of the shelving is 78.7\", with each section measuring 39.4\" in width and 13.8\" in depth. Each shelf can hold up to 66 lbs and comes with bookends and label holders, with an optional ladder rail system available.\n",
       "  </p>\n",
       "  <p>\n",
       "    Constructed with a steel frame for both the desk and shelving, the Personal Lab Workspace ensures stability with reinforced joints and anti-tip mounting brackets. Leveling feet are included to accommodate uneven floors. The desktop and shelves are available in a choice of solid hardwood (oak, maple, or walnut), high-pressure laminate, or bamboo, while the frame is made from powder-coated steel in matte black, white, or silver.\n",
       "  </p>\n",
       "  <p>\n",
       "    The electrical system is compatible with 110V/220V, featuring a motor system with standby power consumption of less than 0.1W and operating noise below 50dB. It includes three memory presets and surge protection for added convenience and safety.\n",
       "  </p>\n",
       "  <p>\n",
       "    Additional options include monitor arm mounting points, an under-desk drawer unit, a task lighting system, a mobile book cart, wire management solutions, a keyboard tray, and an anti-fatigue mat. The workspace is crafted with sustainability in mind, using GREENGUARD certified materials, an energy-efficient motor system, recyclable components, and sustainable wood options.\n",
       "  </p>\n",
       "  <p>\n",
       "    The product comes with a 10-year warranty on the frame, a 5-year warranty on electrical components, and a 2-year warranty on the desktop surface and shelving.\n",
       "  </p>\n",
       "  <p>Product ID: </p>\n",
       "</div>\n",
       "\n",
       "<table>\n",
       "  <caption>Product Dimensions</caption>\n",
       "  <tr>\n",
       "    <td>Height Range (Workstation)</td>\n",
       "    <td>25.6\" - 51.2\"</td>\n",
       "  </tr>\n",
       "  <tr>\n",
       "    <td>Desktop Dimensions</td>\n",
       "    <td>63\" x 31.5\"</td>\n",
       "  </tr>\n",
       "  <tr>\n",
       "    <td>Total Height (Shelving)</td>\n",
       "    <td>78.7\"</td>\n",
       "  </tr>\n",
       "  <tr>\n",
       "    <td>Width per Section (Shelving)</td>\n",
       "    <td>39.4\"</td>\n",
       "  </tr>\n",
       "  <tr>\n",
       "    <td>Depth (Shelving)</td>\n",
       "    <td>13.8\"</td>\n",
       "  </tr>\n",
       "  <tr>\n",
       "    <td>Distance Between Shelves</td>\n",
       "    <td>13.8\"</td>\n",
       "  </tr>\n",
       "</table>\n",
       "```"
      ],
      "text/plain": [
       "<IPython.core.display.HTML object>"
      ]
     },
     "metadata": {},
     "output_type": "display_data"
    }
   ],
   "source": [
    "display(HTML(response))"
   ]
  },
  {
   "cell_type": "markdown",
   "id": "8ed02a02-9e12-4f63-97bd-f52064b18666",
   "metadata": {},
   "source": [
    "## Try experimenting on your own!"
   ]
  },
  {
   "cell_type": "code",
   "execution_count": null,
   "id": "a5f584ce4e633abb",
   "metadata": {},
   "outputs": [],
   "source": []
  }
 ],
 "metadata": {
  "kernelspec": {
   "display_name": "Python 3 (ipykernel)",
   "language": "python",
   "name": "python3"
  },
  "language_info": {
   "codemirror_mode": {
    "name": "ipython",
    "version": 3
   },
   "file_extension": ".py",
   "mimetype": "text/x-python",
   "name": "python",
   "nbconvert_exporter": "python",
   "pygments_lexer": "ipython3",
   "version": "3.12.7"
  }
 },
 "nbformat": 4,
 "nbformat_minor": 5
}
