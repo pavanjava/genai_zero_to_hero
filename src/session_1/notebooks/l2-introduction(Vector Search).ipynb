{
 "cells": [
  {
   "cell_type": "markdown",
   "id": "b0159e2b8439b1a2",
   "metadata": {},
   "source": [
    "## Agenda\n",
    "\n",
    "- Introduction\n",
    "- Elements\n",
    "- Depth in Prompts\n",
    "- Various Tools & Platform\n",
    "- Applications\n",
    "- Prompting and its importance in Applications "
   ]
  },
  {
   "cell_type": "markdown",
   "id": "a185520507806ba2",
   "metadata": {},
   "source": [
    "## Features of Qdrant\n",
    "Qdrant is a high-performance vector database and similarity search engine designed for AI, machine learning, and retrieval-augmented generation (RAG) applications. Here are its key features:\n",
    "\n",
    "### **1. Scalable Vector Search**\n",
    "   - Supports **billions of vectors** with efficient indexing.\n",
    "   - Uses **HNSW (Hierarchical Navigable Small World)** graph for **fast** nearest neighbor search.\n",
    "\n",
    "### **2. Hybrid Search (Vector + Metadata Filtering)**\n",
    "   - Allows combining **vector similarity** search with **structured metadata filtering**.\n",
    "   - Enables complex queries using **Boolean conditions, range filters, and nested filtering**.\n",
    "\n",
    "### **3. Multi-Tenancy & Collections**\n",
    "   - Organize data into **collections**, allowing **multi-tenancy** support.\n",
    "   - Each collection operates **independently**, supporting different configurations.\n",
    "\n",
    "### **4. Distributed & Fault-Tolerant**\n",
    "   - **Horizontal scaling** via distributed nodes.\n",
    "   - **High availability** with automatic **replication & failover**.\n",
    "\n",
    "### **5. Real-Time Insert & Update**\n",
    "   - Supports **real-time updates, inserts, and deletes**.\n",
    "   - No need for **index rebuilding** after data modifications.\n",
    "\n",
    "### **6. Payload & Metadata Support**\n",
    "   - Store **structured metadata** alongside vectors.\n",
    "   - Supports **JSON payloads**, making it easy to filter and query additional information.\n",
    "\n",
    "### **7. API-First Approach**\n",
    "   - Fully **RESTful API** with **gRPC support**.\n",
    "   - Compatible with **Python, JavaScript, Go, Rust, and more**.\n",
    "\n",
    "### **8. Open Source & Self-Hosted**\n",
    "   - Fully **open-source** under **Apache 2.0 license**.\n",
    "   - Can be **self-hosted** on **bare metal, Kubernetes, or cloud** environments.\n",
    "\n",
    "### **9. Multi-Modal Search**\n",
    "   - Supports **text-to-image, text-to-video, and multimodal embeddings**.\n",
    "   - Can integrate with **LLMs, CLIP, OpenAI, Hugging Face models, etc.**.\n",
    "\n",
    "### **10. Vector Quantization & Compression**\n",
    "   - **Reduce storage costs** using **quantization** techniques.\n",
    "   - Supports **product quantization (PQ) and binary quantization (BQ)**.\n",
    "\n",
    "### **11. Approximate and Exact Search**\n",
    "   - Provides **approximate nearest neighbor (ANN) search** for speed.\n",
    "   - Can be configured for **exact brute-force search**.\n",
    "\n",
    "### **12. On-Prem & Cloud Deployment**\n",
    "   - Deploy **on-prem, edge devices, Kubernetes, or cloud (AWS, GCP, Azure)**.\n",
    "\n",
    "Would you like more details on a specific feature?"
   ]
  },
  {
   "cell_type": "code",
   "execution_count": null,
   "id": "f6b7c2bbc28444f2",
   "metadata": {},
   "outputs": [],
   "source": []
  }
 ],
 "metadata": {
  "kernelspec": {
   "display_name": "Python 3 (ipykernel)",
   "language": "python",
   "name": "python3"
  },
  "language_info": {
   "codemirror_mode": {
    "name": "ipython",
    "version": 3
   },
   "file_extension": ".py",
   "mimetype": "text/x-python",
   "name": "python",
   "nbconvert_exporter": "python",
   "pygments_lexer": "ipython3",
   "version": "3.12.7"
  }
 },
 "nbformat": 4,
 "nbformat_minor": 5
}
